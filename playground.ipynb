{
 "cells": [
  {
   "cell_type": "code",
   "execution_count": 1,
   "metadata": {},
   "outputs": [
    {
     "data": {
      "text/plain": [
       "[\"Think of this as an opportunity to reflect on your contributions and how they align with your company's goals, potentially leading to personal growth and professional development.\",\n",
       " 'Consider this as a catalyst for exploring innovative ways to demonstrate your value, which might not only secure a raise but also new responsibilities or promotions.',\n",
       " 'Instead of focusing solely on the raise, see this situation as a chance to build stronger relationships with your supervisors by engaging in productive conversations about your career path.',\n",
       " 'This moment can be seen as a driver to explore new skills or projects that could add to your portfolio and demand recognition organically.',\n",
       " 'Recognize that this pause in financial advancement might allow you to reassess your current position and open up possibilities for more satisfying work or a new career path.']"
      ]
     },
     "execution_count": 1,
     "metadata": {},
     "output_type": "execute_result"
    }
   ],
   "source": [
    "from bot import BotRankReap\n",
    "\n",
    "session_state = {\n",
    "    \"pid\": \"00000\",\n",
    "    \"state\": \"rank_reaps\",\n",
    "    \"cur_domain\": \"career\",\n",
    "    \"issue_msgs\": {\"career\": [\n",
    "        {\"role\": \"user\", \"content\": \"i deserve a raise\"}\n",
    "        ]},\n",
    "}\n",
    "session_state[\"messages\"] = session_state[\"issue_msgs\"][session_state[\"cur_domain\"]]\n",
    "\n",
    "bot = BotRankReap(session_state)\n",
    "bot.generate_reaps()"
   ]
  },
  {
   "cell_type": "code",
   "execution_count": null,
   "metadata": {},
   "outputs": [],
   "source": []
  }
 ],
 "metadata": {
  "kernelspec": {
   "display_name": "venv",
   "language": "python",
   "name": "python3"
  },
  "language_info": {
   "codemirror_mode": {
    "name": "ipython",
    "version": 3
   },
   "file_extension": ".py",
   "mimetype": "text/x-python",
   "name": "python",
   "nbconvert_exporter": "python",
   "pygments_lexer": "ipython3",
   "version": "3.11.9"
  }
 },
 "nbformat": 4,
 "nbformat_minor": 2
}
